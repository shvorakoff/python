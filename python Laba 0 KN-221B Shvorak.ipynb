{
 "cells": [
  {
   "cell_type": "markdown",
   "id": "1e5e4921e1fa5ac1",
   "metadata": {
    "collapsed": false
   },
   "source": [
    "# Чеська республіка"
   ]
  },
  {
   "cell_type": "markdown",
   "id": "d4a666233163aaf1",
   "metadata": {
    "collapsed": false,
    "jp-MarkdownHeadingCollapsed": true
   },
   "source": [
    "## Інформація\n",
    "\n",
    "| Площина      | Населення       | Державний устрой                                |\n",
    "|--------------|-----------------|-------------------------------------------------|\n",
    "| *78 866 км²* | *10 637 540*    | Унітарна конституційна парламентська республіка |"
   ]
  },
  {
   "cell_type": "markdown",
   "id": "6475e831126478ba",
   "metadata": {
    "collapsed": false
   },
   "source": [
    "## Видатні персони\n",
    "- ### <a style = \"color: red; border: 1px solid black\" href=\"https://uk.wikipedia.org/wiki/%D0%AF%D0%BD_%D0%A1%D0%B0%D1%83%D0%B4%D0%B5%D0%BA\">Ян Саудек</a>\n",
    " <img style=\"height: 200px; width: 150px\"\n",
    "             src=\"https://th.bing.com/th/id/OIP.bQDz6h8EqFrtj8k0KNQKQwAAAA?pid=ImgDet&w=265&h=400&rs=1\">\n",
    "- ###  <a style = \"color: red; border: 1px solid black\" href=\"https://uk.wikipedia.org/wiki/%D0%9F%D0%B5%D1%82%D1%80_%D0%A7%D0%B5%D1%85\">Петр Чех</a>\n",
    "<img style=\"height: 200px; width: 150px\"\n",
    "        src=\"https://upload.wikimedia.org/wikipedia/commons/7/75/Arsenal_players_training_before_2019_UEFA_Europa_League_final_07_%28cropped%29.jpg\">\n",
    "- ### <a style = \"color: red; border: 1px solid black\" href=\"https://uk.wikipedia.org/wiki/%D0%AF%D0%BD_%D0%93%D1%83%D1%81\">Ян Гус</a>\n",
    "<img style=\"height: 200px; width: 150px\"\n",
    "             src=\"https://interesnyefakty.org/wp-content/uploads/yan-gus-8.jpg\">"
   ]
  },
  {
   "cell_type": "markdown",
   "id": "f722285a39e9c952",
   "metadata": {
    "collapsed": false
   },
   "source": [
    "## Пам'ятки культури\n",
    "- ### <a style = \"color: red; border: 1px solid black\" href=\"https://uk.wikipedia.org/wiki/%D0%91%D0%B5%D0%B7%D0%B4%D1%94%D0%B7\">Бездєз</a>\n",
    " <img style=\"height: 150px; width: 200px\"\n",
    "             src=\"image/300px-Bezdez.jpg\">\n",
    "- ###  <a style = \"color: red; border: 1px solid black\" href=\"https://uk.wikipedia.org/wiki/%D0%92%D0%B5%D0%B6%D0%B0_%D0%84%D1%88%D1%82%D0%B5%D0%B4\">Вежа Єштед</a>\n",
    "<img style=\"height: 150px; width: 200px\"\n",
    "        src=\"image/300px-Jested.jpg\">\n",
    "- ### <a style = \"color: red; border: 1px solid black\" href=\"https://uk.wikipedia.org/wiki/%D0%97%D0%B0%D0%BC%D0%BE%D0%BA_%D0%9B%D0%B5%D0%B4%D0%BD%D0%B8%D1%86%D1%96\">Замок Ледниці</a>\n",
    "<img style=\"height: 150px; width: 200px\"\n",
    "             src=\"image/375px-Main_front_of_Lednice_Castle_4800_Planar_3.jpg\">"
   ]
  },
  {
   "cell_type": "markdown",
   "id": "d4828c9e-ac4a-490d-9505-bbcdf9ec183d",
   "metadata": {
    "collapsed": false
   },
   "source": [
    "## Флаг"
   ]
  },
  {
   "cell_type": "code",
   "execution_count": 1,
   "id": "7016c06e-b810-4fa3-8bb2-77ca4ca7882e",
   "metadata": {
    "ExecuteTime": {
     "end_time": "2023-11-09T09:15:25.483616800Z",
     "start_time": "2023-11-09T09:15:25.447096200Z"
    },
    "collapsed": false
   },
   "outputs": [
    {
     "data": {
      "text/html": [
       "<svg width=\"450\" height=\"300\">\n",
       "<rect width=\"450\" height=\"300\" fill=\"red\"/>\n",
       "<rect width=\"450\" height=\"150\" fill=\"white\"/>\n",
       "<path d=\"M 225,150 0,0 V 300 z\" fill=\"blue\"/> \n",
       "</svg>\n"
      ],
      "text/plain": [
       "<IPython.core.display.HTML object>"
      ]
     },
     "metadata": {},
     "output_type": "display_data"
    }
   ],
   "source": [
    "%%HTML\n",
    "<svg width=\"450\" height=\"300\">\n",
    "<rect width=\"450\" height=\"300\" fill=\"red\"/>\n",
    "<rect width=\"450\" height=\"150\" fill=\"white\"/>\n",
    "<path d=\"M 225,150 0,0 V 300 z\" fill=\"blue\"/> \n",
    "</svg>"
   ]
  },
  {
   "cell_type": "code",
   "execution_count": 21,
   "id": "23b61e259eb2caf0",
   "metadata": {
    "ExecuteTime": {
     "end_time": "2023-10-10T12:26:18.933983100Z",
     "start_time": "2023-10-10T12:26:18.926153300Z"
    },
    "collapsed": false
   },
   "outputs": [],
   "source": [
    "def is_prime(a):\n",
    "    if a % 2 == 0:\n",
    "        return a == 2\n",
    "    d = 3\n",
    "    while d * d <= a and a % d != 0:\n",
    "        d += 2\n",
    "    return d * d > a\n",
    "\n",
    "\n",
    "def list_numbers():\n",
    "    try:\n",
    "        numbers = input()\n",
    "        list = [int(num) for num in numbers.split()]\n",
    "        new_list = [val for val in list if not is_prime(val)]\n",
    "        if not new_list:\n",
    "            print(\"There are no complex numbers\")\n",
    "        else:\n",
    "            new_list.sort(reverse=True)\n",
    "            print(new_list)\n",
    "    except ValueError:\n",
    "        print(\"There is an element of non-numeric type in the list\")"
   ]
  },
  {
   "cell_type": "code",
   "execution_count": 22,
   "id": "4b6698648900b5a0",
   "metadata": {
    "ExecuteTime": {
     "end_time": "2023-10-10T12:26:25.893712600Z",
     "start_time": "2023-10-10T12:26:22.570920900Z"
    },
    "collapsed": false
   },
   "outputs": [
    {
     "name": "stdout",
     "output_type": "stream",
     "text": [
      "[4]\n"
     ]
    }
   ],
   "source": [
    "list_numbers()"
   ]
  },
  {
   "cell_type": "code",
   "execution_count": 23,
   "id": "101ccec8bec19896",
   "metadata": {
    "ExecuteTime": {
     "end_time": "2023-10-10T12:26:52.451146900Z",
     "start_time": "2023-10-10T12:26:48.116681900Z"
    },
    "collapsed": false
   },
   "outputs": [
    {
     "name": "stdout",
     "output_type": "stream",
     "text": [
      "There is an element of non-numeric type in the list\n"
     ]
    }
   ],
   "source": [
    "list_numbers()"
   ]
  },
  {
   "cell_type": "code",
   "execution_count": 24,
   "id": "32cb2d70af254207",
   "metadata": {
    "ExecuteTime": {
     "end_time": "2023-10-10T12:27:09.014181800Z",
     "start_time": "2023-10-10T12:27:02.240368800Z"
    },
    "collapsed": false
   },
   "outputs": [
    {
     "name": "stdout",
     "output_type": "stream",
     "text": [
      "[16, 15, 12, -24]\n"
     ]
    }
   ],
   "source": [
    "list_numbers()"
   ]
  },
  {
   "attachments": {},
   "cell_type": "markdown",
   "id": "104849cd8560eb5c",
   "metadata": {
    "collapsed": false
   },
   "source": [
    "[GitHub](https://github.com/shvorakoff/python)"
   ]
  },
  {
   "cell_type": "code",
   "execution_count": null,
   "id": "97aca61d4124192a",
   "metadata": {
    "collapsed": false
   },
   "outputs": [],
   "source": []
  }
 ],
 "metadata": {
  "kernelspec": {
   "display_name": "Python 3 (ipykernel)",
   "language": "python",
   "name": "python3"
  },
  "language_info": {
   "codemirror_mode": {
    "name": "ipython",
    "version": 3
   },
   "file_extension": ".py",
   "mimetype": "text/x-python",
   "name": "python",
   "nbconvert_exporter": "python",
   "pygments_lexer": "ipython3",
   "version": "3.11.5"
  }
 },
 "nbformat": 4,
 "nbformat_minor": 5
}
